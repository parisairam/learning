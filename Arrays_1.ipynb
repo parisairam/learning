{
  "nbformat": 4,
  "nbformat_minor": 0,
  "metadata": {
    "colab": {
      "name": "Arrays_1.ipynb",
      "provenance": [],
      "authorship_tag": "ABX9TyPEHZxoFdH6f3SYW6KIMDm2",
      "include_colab_link": true
    },
    "kernelspec": {
      "name": "python3",
      "display_name": "Python 3"
    }
  },
  "cells": [
    {
      "cell_type": "markdown",
      "metadata": {
        "id": "view-in-github",
        "colab_type": "text"
      },
      "source": [
        "<a href=\"https://colab.research.google.com/github/parisairam/learning/blob/master/Arrays_1.ipynb\" target=\"_parent\"><img src=\"https://colab.research.google.com/assets/colab-badge.svg\" alt=\"Open In Colab\"/></a>"
      ]
    },
    {
      "cell_type": "markdown",
      "metadata": {
        "id": "FOLMUJ_dimpM",
        "colab_type": "text"
      },
      "source": [
        "# **Find pair with given sum in an array**\n",
        "\n",
        "\n",
        "\n",
        "Given an unsorted array of integers, find a pair with the given sum in it\n",
        "\n",
        "\n",
        "\n",
        "***Input:***\n",
        "```\n",
        "arr = [8, 7, 2, 5, 3, 1]\n",
        "sum = 10 \n",
        "```\n",
        "\n",
        "***Output:***\n",
        "\n",
        "\n",
        "```\n",
        "Pair found at index 0 and 2 (8 + 2)\n",
        "or \n",
        "Pair found at index 1 and 4 (7 + 3)\n",
        "```\n",
        "\n"
      ]
    },
    {
      "cell_type": "markdown",
      "metadata": {
        "id": "n4ePbkdTkqXG",
        "colab_type": "text"
      },
      "source": [
        "### **Approach 1 : Naive approach**"
      ]
    },
    {
      "cell_type": "code",
      "metadata": {
        "id": "XPL9xUKties2",
        "colab_type": "code",
        "colab": {
          "base_uri": "https://localhost:8080/",
          "height": 34
        },
        "outputId": "d7a221c2-97f5-4098-da93-5900538d7cc4"
      },
      "source": [
        "def findPair(A , sum):\n",
        "  for i in range(len(A)-1):\n",
        "    for j in range(i+1, len(A)):\n",
        "      if(A[i]+A[j] == sum):\n",
        "        print('Pair found at index ',i,' and ',j,' (',A[i],' + ',A[j],')')\n",
        "        return\n",
        "      \n",
        "  print('Pair not found !')\n",
        "  \n",
        "if __name__== '__main__':\n",
        "  A = [8, 7, 2, 5, 3, 1]\n",
        "  Sum = 10\n",
        "  findPair(A,Sum)"
      ],
      "execution_count": 11,
      "outputs": [
        {
          "output_type": "stream",
          "text": [
            "Pair found at index  0  and  2  ( 8  +  2 )\n"
          ],
          "name": "stdout"
        }
      ]
    },
    {
      "cell_type": "markdown",
      "metadata": {
        "id": "o1FoImDPmmkE",
        "colab_type": "text"
      },
      "source": [
        "This approach is called as Naive approach as it takes each element and compares with with all other elements until the solution is found. The time complexity for the above solution is **O(n²)** and the auxilary space used by the program is **O(1)**."
      ]
    },
    {
      "cell_type": "markdown",
      "metadata": {
        "id": "iOFDEHy3rvAb",
        "colab_type": "text"
      },
      "source": [
        "### **Approach 2 : Sorted approach**"
      ]
    },
    {
      "cell_type": "code",
      "metadata": {
        "id": "Q45CY1i9ruiF",
        "colab_type": "code",
        "colab": {
          "base_uri": "https://localhost:8080/",
          "height": 52
        },
        "outputId": "edc5135b-cad2-404d-e626-a28b96bea3a9"
      },
      "source": [
        "def findPair(A, sum):\n",
        "  A.sort()\n",
        "  print('Sorted Array: ',A)\n",
        "\n",
        "  (low,high) = (0, len(A)-1)\n",
        "  while low < high:\n",
        "    if (A[low] + A[high] == sum):\n",
        "      print('Pair found at index ',low,' and ',high,' (',A[low],' + ',A[high],')')\n",
        "      return\n",
        "    \n",
        "    if(A[low] + A[high] < sum):\n",
        "      low = low + 1\n",
        "    else:\n",
        "      high = high - 1\n",
        "  print('Pair not found !')\n",
        "  \n",
        "if __name__== '__main__':\n",
        "  A = [8, 7, 2, 5, 3, 1]\n",
        "  Sum = 10\n",
        "  findPair(A,Sum)\n"
      ],
      "execution_count": 13,
      "outputs": [
        {
          "output_type": "stream",
          "text": [
            "Sorted Array:  [1, 2, 3, 5, 7, 8]\n",
            "Pair found at index  1  and  5  ( 2  +  8 )\n"
          ],
          "name": "stdout"
        }
      ]
    },
    {
      "cell_type": "markdown",
      "metadata": {
        "id": "wDHTcsxUt9r0",
        "colab_type": "text"
      },
      "source": [
        "**Algorithm**\n",
        "\n",
        "1.   First the array is sorted in ascending order\n",
        "2.   Variables *low* and *high* are assigned with 0 and highest index of the array\n",
        "3.   If the sum of values present in indexes *low* and *high* equals to sum then print the indexes and its values\n",
        "4.   If the sum of the values is less than the sum , then increment the *low* value to next index\n",
        "5.  If the sum of the values is high than the sum, then decrement the *high* value to previous index\n",
        "6.  Repeat the step 3 - 5 until the *low* is lesser than *high* values and if the pair is not found, print pair not found message.\n",
        "\n",
        "The time complexity of the above solution is **O(nlog(n))** and the auxilary space used by the program is **O(1)**.\n"
      ]
    },
    {
      "cell_type": "markdown",
      "metadata": {
        "id": "C2CoUQ2E00IM",
        "colab_type": "text"
      },
      "source": [
        "### **Approach 3 : Hashing approach**"
      ]
    },
    {
      "cell_type": "code",
      "metadata": {
        "id": "hqXuP56AzxeM",
        "colab_type": "code",
        "colab": {
          "base_uri": "https://localhost:8080/",
          "height": 34
        },
        "outputId": "4dcb8398-0f2f-4ef0-952a-0eda1419de3c"
      },
      "source": [
        "def findPair(A, sum):\n",
        "  dict = {}\n",
        "  \n",
        "  for i, e in enumerate(A):\n",
        "    if sum - e in dict:\n",
        "      print(\"Pair found at index\", dict.get(sum - e), \"and\", i)\n",
        "      return\n",
        "    dict[e] = i\n",
        "  print(\"Pair not found\")\n",
        " \n",
        "if __name__== '__main__':\n",
        "  A = [8, 7, 2, 5, 3, 1]\n",
        "  Sum = 10\n",
        "  findPair(A,Sum)\n"
      ],
      "execution_count": 23,
      "outputs": [
        {
          "output_type": "stream",
          "text": [
            "Pair found at index 0 and 2\n"
          ],
          "name": "stdout"
        }
      ]
    },
    {
      "cell_type": "markdown",
      "metadata": {
        "id": "mWRP-W951Y7L",
        "colab_type": "text"
      },
      "source": [
        "We can use dictionary to solve this problem. The idea is to insert each element of the array into a dictionary. We also check if the difference **(Arr[i], sum - Arr[i])** is present in the dictionary or not. If the difference is already present, we print the pair and return.\n",
        "\n",
        "The time complexity of the above solution is **O(n)** and the auxilary space used by the program is **O(n)**.\n"
      ]
    }
  ]
}