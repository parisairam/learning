{
  "nbformat": 4,
  "nbformat_minor": 0,
  "metadata": {
    "colab": {
      "name": "Arrays_1.ipynb",
      "provenance": [],
      "authorship_tag": "ABX9TyMuMKOi1uO9xiT5nN04twp/",
      "include_colab_link": true
    },
    "kernelspec": {
      "name": "python3",
      "display_name": "Python 3"
    }
  },
  "cells": [
    {
      "cell_type": "markdown",
      "metadata": {
        "id": "view-in-github",
        "colab_type": "text"
      },
      "source": [
        "<a href=\"https://colab.research.google.com/github/parisairam/learning/blob/master/Arrays_1.ipynb\" target=\"_parent\"><img src=\"https://colab.research.google.com/assets/colab-badge.svg\" alt=\"Open In Colab\"/></a>"
      ]
    },
    {
      "cell_type": "markdown",
      "metadata": {
        "id": "FOLMUJ_dimpM",
        "colab_type": "text"
      },
      "source": [
        "# **Find pair with given sum in an array**\n",
        "\n",
        "\n",
        "\n",
        "Given an unsorted array of integers, find a pair with the given sum in it\n",
        "\n",
        "\n",
        "\n",
        "***Input:***\n",
        "```\n",
        "arr = [8, 7, 2, 5, 3, 1]\n",
        "sum = 10 \n",
        "```\n",
        "\n",
        "***Output:***\n",
        "\n",
        "\n",
        "```\n",
        "Pair found at index 0 and 2 (8 + 2)\n",
        "or \n",
        "Pair found at index 1 and 4 (7 + 3)\n",
        "```\n",
        "\n"
      ]
    },
    {
      "cell_type": "markdown",
      "metadata": {
        "id": "n4ePbkdTkqXG",
        "colab_type": "text"
      },
      "source": [
        "### **Approach 1 : Naive approach**"
      ]
    },
    {
      "cell_type": "code",
      "metadata": {
        "id": "XPL9xUKties2",
        "colab_type": "code",
        "colab": {
          "base_uri": "https://localhost:8080/",
          "height": 34
        },
        "outputId": "63429718-8b1b-4e18-c59f-fca54b53feaf"
      },
      "source": [
        "def findPair(A , sum):\n",
        "  for i in range(len(A)-1):\n",
        "    for j in range(i+1, len(A)):\n",
        "      if(A[i]+A[j] == sum):\n",
        "        print('Pair found at index ',i,' and ',j,' (',A[i],' + ',A[j],')')\n",
        "        return\n",
        "      \n",
        "  print('Pair not found !')\n",
        "  \n",
        "if __name__== '__main__':\n",
        "  A = [8, 7, 2, 5, 3, 1]\n",
        "  Sum = 15\n",
        "  findPair(A,Sum)"
      ],
      "execution_count": 7,
      "outputs": [
        {
          "output_type": "stream",
          "text": [
            "Pair found at index  0  and  1  ( 8  +  7 )\n"
          ],
          "name": "stdout"
        }
      ]
    },
    {
      "cell_type": "markdown",
      "metadata": {
        "id": "o1FoImDPmmkE",
        "colab_type": "text"
      },
      "source": [
        "This approach is called as Naive approach as it takes each element and compares with with all other elements until the solution is found. The time complexity for the above solution is **O(n²)** and the auxilary space used by the program is **O(1)**."
      ]
    }
  ]
}