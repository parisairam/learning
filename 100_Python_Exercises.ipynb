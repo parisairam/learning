{
  "nbformat": 4,
  "nbformat_minor": 0,
  "metadata": {
    "colab": {
      "name": "100_Python_Exercises.ipynb",
      "provenance": [],
      "authorship_tag": "ABX9TyNFQRlLO8/QV55jtTw271zo",
      "include_colab_link": true
    },
    "kernelspec": {
      "name": "python3",
      "display_name": "Python 3"
    }
  },
  "cells": [
    {
      "cell_type": "markdown",
      "metadata": {
        "id": "view-in-github",
        "colab_type": "text"
      },
      "source": [
        "<a href=\"https://colab.research.google.com/github/parisairam/learning/blob/master/100_Python_Exercises.ipynb\" target=\"_parent\"><img src=\"https://colab.research.google.com/assets/colab-badge.svg\" alt=\"Open In Colab\"/></a>"
      ]
    },
    {
      "cell_type": "markdown",
      "metadata": {
        "id": "1JIF9qJp74_h",
        "colab_type": "text"
      },
      "source": [
        "# **100 Python Excercises**\n"
      ]
    },
    {
      "cell_type": "markdown",
      "metadata": {
        "id": "achI-HScxRmA",
        "colab_type": "text"
      },
      "source": [
        "## **Exercise 1 - Variable Updating**\n",
        "\n",
        "What will the following code produce ?\n",
        "\n",
        "a = 2\n",
        "\n",
        "a = 4\n",
        "\n",
        "a = 6\n",
        "\n",
        "print(a + a + a)"
      ]
    },
    {
      "cell_type": "code",
      "metadata": {
        "id": "fHQf87q6xqy4",
        "colab_type": "code",
        "colab": {
          "base_uri": "https://localhost:8080/",
          "height": 34
        },
        "outputId": "7226da2f-9c99-46e5-b7c9-da1bf1d75acd"
      },
      "source": [
        "a = 2\n",
        "a = 4\n",
        "a = 6\n",
        "print(a + a + a)"
      ],
      "execution_count": 2,
      "outputs": [
        {
          "output_type": "stream",
          "text": [
            "18\n"
          ],
          "name": "stdout"
        }
      ]
    },
    {
      "cell_type": "markdown",
      "metadata": {
        "id": "Qtj2nsHLx02o",
        "colab_type": "text"
      },
      "source": [
        "## **Exercise 2 - Naming Rules**\n",
        "\n",
        "What's wrong with the following script?\n",
        "\n",
        "a = 1\n",
        "\n",
        "_a = 2\n",
        "\n",
        "_a2 = 3\n",
        "\n",
        "2a = 4\n",
        "\n",
        "### Answer:\n",
        "\n",
        "Variable name starts with a letter or an underscore, but cannot start with a number."
      ]
    },
    {
      "cell_type": "markdown",
      "metadata": {
        "id": "DL3s0AxdzifY",
        "colab_type": "text"
      },
      "source": [
        "## **Exercise 3 - Compare Vs Assign**\n",
        "\n",
        "Executing the code will throw an error. Can you explain why?\n",
        "\n",
        "a = 1\n",
        "\n",
        "b = 2\n",
        "\n",
        "print(a == b)\n",
        "\n",
        "print(b == c)"
      ]
    },
    {
      "cell_type": "code",
      "metadata": {
        "id": "25msZpnBzx6L",
        "colab_type": "code",
        "colab": {
          "base_uri": "https://localhost:8080/",
          "height": 214
        },
        "outputId": "3c186c1f-e52d-4d01-b216-f012994b4501"
      },
      "source": [
        "a = 1\n",
        "b = 2\n",
        "print(a == b)\n",
        "print(b == c)"
      ],
      "execution_count": 3,
      "outputs": [
        {
          "output_type": "stream",
          "text": [
            "False\n"
          ],
          "name": "stdout"
        },
        {
          "output_type": "error",
          "ename": "NameError",
          "evalue": "ignored",
          "traceback": [
            "\u001b[0;31m---------------------------------------------------------------------------\u001b[0m",
            "\u001b[0;31mNameError\u001b[0m                                 Traceback (most recent call last)",
            "\u001b[0;32m<ipython-input-3-98856f989715>\u001b[0m in \u001b[0;36m<module>\u001b[0;34m()\u001b[0m\n\u001b[1;32m      2\u001b[0m \u001b[0mb\u001b[0m \u001b[0;34m=\u001b[0m \u001b[0;36m2\u001b[0m\u001b[0;34m\u001b[0m\u001b[0;34m\u001b[0m\u001b[0m\n\u001b[1;32m      3\u001b[0m \u001b[0mprint\u001b[0m\u001b[0;34m(\u001b[0m\u001b[0ma\u001b[0m \u001b[0;34m==\u001b[0m \u001b[0mb\u001b[0m\u001b[0;34m)\u001b[0m\u001b[0;34m\u001b[0m\u001b[0;34m\u001b[0m\u001b[0m\n\u001b[0;32m----> 4\u001b[0;31m \u001b[0mprint\u001b[0m\u001b[0;34m(\u001b[0m\u001b[0mb\u001b[0m \u001b[0;34m==\u001b[0m \u001b[0mc\u001b[0m\u001b[0;34m)\u001b[0m\u001b[0;34m\u001b[0m\u001b[0;34m\u001b[0m\u001b[0m\n\u001b[0m",
            "\u001b[0;31mNameError\u001b[0m: name 'c' is not defined"
          ]
        }
      ]
    },
    {
      "cell_type": "markdown",
      "metadata": {
        "id": "z3F5Q8FDz1FT",
        "colab_type": "text"
      },
      "source": [
        "## Answer\n",
        "\n",
        "Variable C is not defined"
      ]
    },
    {
      "cell_type": "markdown",
      "metadata": {
        "id": "m2uaYF1o1HDQ",
        "colab_type": "text"
      },
      "source": [
        "## **Exercise 4 - type Error**\n",
        "\n",
        "Fix the last line so that it outputs the sum of 1 and 2. Please do not change the first two lines. Only the last one.\n",
        "\n",
        "a = \"1\"\n",
        "\n",
        "b = 2\n",
        "\n",
        "print(a + b)"
      ]
    },
    {
      "cell_type": "code",
      "metadata": {
        "id": "Ba-U5vfR1TeO",
        "colab_type": "code",
        "colab": {
          "base_uri": "https://localhost:8080/",
          "height": 34
        },
        "outputId": "80755665-4e6c-4b43-a55b-e385bd722575"
      },
      "source": [
        "a = \"1\"\n",
        "b = 2\n",
        "print(int(a) + b)"
      ],
      "execution_count": 4,
      "outputs": [
        {
          "output_type": "stream",
          "text": [
            "3\n"
          ],
          "name": "stdout"
        }
      ]
    },
    {
      "cell_type": "markdown",
      "metadata": {
        "id": "msBgPKvh1tAn",
        "colab_type": "text"
      },
      "source": [
        "## **Exercise 5 - Sequence Indexing**\n",
        "\n",
        "Complete the script so that it prints out the second item of the list.\n",
        "\n",
        "letters = [\"a\", \"b\", \"c\", \"d\", \"e\", \"f\", \"g\", \"h\", \"i\", \"j\"]"
      ]
    },
    {
      "cell_type": "code",
      "metadata": {
        "id": "KvqgbwWq2SDn",
        "colab_type": "code",
        "colab": {
          "base_uri": "https://localhost:8080/",
          "height": 34
        },
        "outputId": "cda90964-2ae6-4ca7-af03-932c118f81f4"
      },
      "source": [
        "letters = [\"a\", \"b\", \"c\", \"d\", \"e\", \"f\", \"g\", \"h\", \"i\", \"j\"]\n",
        "print(letters[1])"
      ],
      "execution_count": 5,
      "outputs": [
        {
          "output_type": "stream",
          "text": [
            "b\n"
          ],
          "name": "stdout"
        }
      ]
    },
    {
      "cell_type": "markdown",
      "metadata": {
        "id": "63Qh_9rq2dDG",
        "colab_type": "text"
      },
      "source": [
        "## **Exercise 6 - Sequence Slicing**\n",
        "\n",
        "Please complete the script so that it prints out a list slice containing items d , e , and f .\n",
        "\n",
        "letters = [\"a\", \"b\", \"c\", \"d\", \"e\", \"f\", \"g\", \"h\", \"i\", \"j\"]"
      ]
    },
    {
      "cell_type": "code",
      "metadata": {
        "id": "kzjNWDFq2r_G",
        "colab_type": "code",
        "colab": {
          "base_uri": "https://localhost:8080/",
          "height": 34
        },
        "outputId": "5defedc9-70b5-4478-d1b9-2c0ba4a0d312"
      },
      "source": [
        "letters = [\"a\", \"b\", \"c\", \"d\", \"e\", \"f\", \"g\", \"h\", \"i\", \"j\"]\n",
        "print(letters[3:6])"
      ],
      "execution_count": 7,
      "outputs": [
        {
          "output_type": "stream",
          "text": [
            "['d', 'e', 'f']\n"
          ],
          "name": "stdout"
        }
      ]
    },
    {
      "cell_type": "markdown",
      "metadata": {
        "id": "nEKWm_C23CvG",
        "colab_type": "text"
      },
      "source": [
        "## **Exercise 7 - Sequence Slicing**\n",
        "\n",
        "List slicing is important in various data manipulation activities. Let's do a few more exercises on that.\n",
        "\n",
        "Please complete the script so that it prints out the first three items of list letters.\n",
        "\n",
        "letters = [\"a\", \"b\", \"c\", \"d\", \"e\", \"f\", \"g\", \"h\", \"i\", \"j\"]"
      ]
    },
    {
      "cell_type": "code",
      "metadata": {
        "id": "qiGu4cSK3Meu",
        "colab_type": "code",
        "colab": {
          "base_uri": "https://localhost:8080/",
          "height": 34
        },
        "outputId": "86d35f84-8c17-4120-f794-c0fa19c99fd2"
      },
      "source": [
        "letters = [\"a\", \"b\", \"c\", \"d\", \"e\", \"f\", \"g\", \"h\", \"i\", \"j\"]\n",
        "print(letters[:3])"
      ],
      "execution_count": 8,
      "outputs": [
        {
          "output_type": "stream",
          "text": [
            "['a', 'b', 'c']\n"
          ],
          "name": "stdout"
        }
      ]
    },
    {
      "cell_type": "markdown",
      "metadata": {
        "id": "Gr2JKsQu3YbO",
        "colab_type": "text"
      },
      "source": [
        "## **Exercise 8 - Negative Indexing**\n",
        "\n",
        "Complete the script so that it prints out letter i  using negative indexing.\n",
        "\n",
        "\n",
        "letters = [\"a\", \"b\", \"c\", \"d\", \"e\", \"f\", \"g\", \"h\", \"i\", \"j\"]\n",
        "\n"
      ]
    },
    {
      "cell_type": "code",
      "metadata": {
        "id": "GhFrMpsz3dcE",
        "colab_type": "code",
        "colab": {
          "base_uri": "https://localhost:8080/",
          "height": 34
        },
        "outputId": "4c928866-8729-48ef-a197-480288c389ad"
      },
      "source": [
        "letters = [\"a\", \"b\", \"c\", \"d\", \"e\", \"f\", \"g\", \"h\", \"i\", \"j\"]\n",
        "print(letters[-2])"
      ],
      "execution_count": 10,
      "outputs": [
        {
          "output_type": "stream",
          "text": [
            "i\n"
          ],
          "name": "stdout"
        }
      ]
    },
    {
      "cell_type": "markdown",
      "metadata": {
        "id": "z9jPzCHq3plO",
        "colab_type": "text"
      },
      "source": [
        "## **Exercise 9 - Negative Slicing**\n",
        "\n",
        "Complete the script so that it prints out a list slice containing the last three items of list letters .\n",
        "\n",
        "\n",
        "letters = [\"a\", \"b\", \"c\", \"d\", \"e\", \"f\", \"g\", \"h\", \"i\", \"j\"]\n",
        "\n"
      ]
    },
    {
      "cell_type": "code",
      "metadata": {
        "id": "3zviihpC3uL-",
        "colab_type": "code",
        "colab": {
          "base_uri": "https://localhost:8080/",
          "height": 34
        },
        "outputId": "2aea4124-7773-41d0-bbd3-aeb2a78cdbe4"
      },
      "source": [
        "letters = [\"a\", \"b\", \"c\", \"d\", \"e\", \"f\", \"g\", \"h\", \"i\", \"j\"]\n",
        "print(letters[-3:])"
      ],
      "execution_count": 11,
      "outputs": [
        {
          "output_type": "stream",
          "text": [
            "['h', 'i', 'j']\n"
          ],
          "name": "stdout"
        }
      ]
    },
    {
      "cell_type": "markdown",
      "metadata": {
        "id": "HoL-3I8A38lH",
        "colab_type": "text"
      },
      "source": [
        "## **Exercise 10 - Sequence Item Picking**\n",
        "\n",
        "Complete the script so that it prints out a list slice containing letters a, c, e, g, and i. \n",
        "\n",
        "\n",
        "letters = [\"a\", \"b\", \"c\", \"d\", \"e\", \"f\", \"g\", \"h\", \"i\", \"j\"]\n",
        "\n"
      ]
    },
    {
      "cell_type": "code",
      "metadata": {
        "id": "tmDjO5z_4Bb1",
        "colab_type": "code",
        "colab": {
          "base_uri": "https://localhost:8080/",
          "height": 34
        },
        "outputId": "a5a626df-5e81-4c08-b2ce-1a607b9fdc8a"
      },
      "source": [
        "letters = [\"a\", \"b\", \"c\", \"d\", \"e\", \"f\", \"g\", \"h\", \"i\", \"j\"]\n",
        "print(letters[::2])"
      ],
      "execution_count": 12,
      "outputs": [
        {
          "output_type": "stream",
          "text": [
            "['a', 'c', 'e', 'g', 'i']\n"
          ],
          "name": "stdout"
        }
      ]
    },
    {
      "cell_type": "markdown",
      "metadata": {
        "id": "BRAUyMZG4ud2",
        "colab_type": "text"
      },
      "source": [
        "## **Exercise 11 - Range**\n",
        "\n",
        "Generate a list from 1 to 20 and list should not be created manually."
      ]
    },
    {
      "cell_type": "code",
      "metadata": {
        "id": "JKAXEQ2Q49jd",
        "colab_type": "code",
        "colab": {
          "base_uri": "https://localhost:8080/",
          "height": 34
        },
        "outputId": "59f81134-a610-41c6-e0d3-4d56c1301426"
      },
      "source": [
        "#casting the ouput of range() into list because range() returns range object and not list\n",
        "my_list=list(range(1,21))\n",
        "print(my_list)"
      ],
      "execution_count": 17,
      "outputs": [
        {
          "output_type": "stream",
          "text": [
            "[1, 2, 3, 4, 5, 6, 7, 8, 9, 10, 11, 12, 13, 14, 15, 16, 17, 18, 19, 20]\n"
          ],
          "name": "stdout"
        }
      ]
    },
    {
      "cell_type": "markdown",
      "metadata": {
        "id": "twkFq91_6GaH",
        "colab_type": "text"
      },
      "source": [
        "## **Exercise 12 - More Ranges**\n",
        "\n",
        "Complete the script so that it produces the expected output. Please use my_range  as input data.\n",
        "\n",
        "\n",
        "my_range = range(1, 21)\n",
        "\n"
      ]
    },
    {
      "cell_type": "code",
      "metadata": {
        "id": "IID_Py1G6L7T",
        "colab_type": "code",
        "colab": {
          "base_uri": "https://localhost:8080/",
          "height": 34
        },
        "outputId": "843ae186-b5b2-40ca-db2f-44f4beca980b"
      },
      "source": [
        "my_range = range(1, 21)\n",
        "#Solution 1\n",
        "Sol1 = []\n",
        "for x in my_range:\n",
        "  Sol1.append(x*10)\n",
        "print(Sol1)"
      ],
      "execution_count": 20,
      "outputs": [
        {
          "output_type": "stream",
          "text": [
            "[10, 20, 30, 40, 50, 60, 70, 80, 90, 100, 110, 120, 130, 140, 150, 160, 170, 180, 190, 200]\n"
          ],
          "name": "stdout"
        }
      ]
    },
    {
      "cell_type": "code",
      "metadata": {
        "id": "ppaUzX_T7ReP",
        "colab_type": "code",
        "colab": {
          "base_uri": "https://localhost:8080/",
          "height": 34
        },
        "outputId": "42ea67d3-15a5-4240-e469-d57838dd4688"
      },
      "source": [
        "my_range = range(1, 21)\n",
        "#Solution 2\n",
        "Sol2 = [x * 10 for x in my_range]\n",
        "print(Sol2)"
      ],
      "execution_count": 21,
      "outputs": [
        {
          "output_type": "stream",
          "text": [
            "[10, 20, 30, 40, 50, 60, 70, 80, 90, 100, 110, 120, 130, 140, 150, 160, 170, 180, 190, 200]\n"
          ],
          "name": "stdout"
        }
      ]
    },
    {
      "cell_type": "code",
      "metadata": {
        "id": "SBDF2_ZB7lzO",
        "colab_type": "code",
        "colab": {
          "base_uri": "https://localhost:8080/",
          "height": 34
        },
        "outputId": "eff3f2c7-fcbd-45e6-929c-fbbc7d14810c"
      },
      "source": [
        "my_range = range(1, 21)\n",
        "#Solution 3\n",
        "Sol3 = list(map(lambda x: x * 10, my_range))\n",
        "print(Sol3)"
      ],
      "execution_count": 22,
      "outputs": [
        {
          "output_type": "stream",
          "text": [
            "[10, 20, 30, 40, 50, 60, 70, 80, 90, 100, 110, 120, 130, 140, 150, 160, 170, 180, 190, 200]\n"
          ],
          "name": "stdout"
        }
      ]
    },
    {
      "cell_type": "markdown",
      "metadata": {
        "id": "QGhb0jch83Lk",
        "colab_type": "text"
      },
      "source": [
        "## **Exercise 13 - Ranges of Strings**\n",
        "\n",
        "Complete the script so it generates the expected output using my_range  as input data. Please note that the items of the expected list output are all strings.\n",
        "\n",
        "\n",
        "my_range = range(1, 21)\n",
        "\n",
        "***Expected Output***\n",
        "\n",
        "['1', '2', '3', '4', '5', '6', '7', '8', '9', '10', '11', '12', '13', '14', '15', '16', '17', '18', '19', '20']  "
      ]
    },
    {
      "cell_type": "code",
      "metadata": {
        "id": "SzApgtjO9D_y",
        "colab_type": "code",
        "colab": {
          "base_uri": "https://localhost:8080/",
          "height": 34
        },
        "outputId": "da489658-7c7a-4d2e-f93e-07d53b4526c3"
      },
      "source": [
        "my_range = range(1, 21)\n",
        "print([str(x) for x in my_range])"
      ],
      "execution_count": 23,
      "outputs": [
        {
          "output_type": "stream",
          "text": [
            "['1', '2', '3', '4', '5', '6', '7', '8', '9', '10', '11', '12', '13', '14', '15', '16', '17', '18', '19', '20']\n"
          ],
          "name": "stdout"
        }
      ]
    },
    {
      "cell_type": "code",
      "metadata": {
        "id": "kIX3Xvq49RsV",
        "colab_type": "code",
        "colab": {
          "base_uri": "https://localhost:8080/",
          "height": 34
        },
        "outputId": "b6e5c605-ff25-458a-e257-fa56912d297a"
      },
      "source": [
        "#Using Map Function\n",
        "my_range = range(1, 21)\n",
        "print(list(map(str,my_range)))"
      ],
      "execution_count": 25,
      "outputs": [
        {
          "output_type": "stream",
          "text": [
            "['1', '2', '3', '4', '5', '6', '7', '8', '9', '10', '11', '12', '13', '14', '15', '16', '17', '18', '19', '20']\n"
          ],
          "name": "stdout"
        }
      ]
    },
    {
      "cell_type": "markdown",
      "metadata": {
        "id": "HMYlzAjB96aC",
        "colab_type": "text"
      },
      "source": [
        "## **Exercise 14 - Removing Duplicates**\n",
        "\n",
        "Complete the script so that it removes duplicate items from list a .\n",
        "\n",
        "\n",
        "a = [\"1\", 1, \"1\", 2]\n",
        "\n"
      ]
    },
    {
      "cell_type": "code",
      "metadata": {
        "id": "Ibz2E4Gi9-1F",
        "colab_type": "code",
        "colab": {
          "base_uri": "https://localhost:8080/",
          "height": 34
        },
        "outputId": "c90ad66d-0a66-4f26-81c8-38aaf5f3d1d7"
      },
      "source": [
        "#Solution 1\n",
        "a = [\"1\", 1, \"1\", 2]\n",
        "print(list(set(a)))"
      ],
      "execution_count": 27,
      "outputs": [
        {
          "output_type": "stream",
          "text": [
            "[1, '1', 2]\n"
          ],
          "name": "stdout"
        }
      ]
    },
    {
      "cell_type": "code",
      "metadata": {
        "id": "GPbEsUNs-g28",
        "colab_type": "code",
        "colab": {
          "base_uri": "https://localhost:8080/",
          "height": 34
        },
        "outputId": "c30f129d-81f3-4dba-8142-a21e57047080"
      },
      "source": [
        "#Solution 2\n",
        "#Problem with the previous solution is that the input order is lost\n",
        "\n",
        "a = [\"1\", 1, \"1\", 2]\n",
        "b = []\n",
        "for x in a:\n",
        "  if x not in b:\n",
        "    b.append(x)\n",
        "print(b)"
      ],
      "execution_count": 28,
      "outputs": [
        {
          "output_type": "stream",
          "text": [
            "['1', 1, 2]\n"
          ],
          "name": "stdout"
        }
      ]
    },
    {
      "cell_type": "code",
      "metadata": {
        "id": "-zL3aGBt-2Vd",
        "colab_type": "code",
        "colab": {
          "base_uri": "https://localhost:8080/",
          "height": 34
        },
        "outputId": "1aef98e1-1d5f-4072-eff2-3328105aa550"
      },
      "source": [
        "#Solution 3\n",
        "#The above solution retains the input order, but the time taken is more as it needs to access both the lists\n",
        "#Ordered Dictionary is another Datatype\n",
        "\n",
        "from collections import OrderedDict\n",
        "a = [\"1\", 1, \"1\", 2]\n",
        "b= list(OrderedDict.fromkeys(a))\n",
        "print(b)"
      ],
      "execution_count": 29,
      "outputs": [
        {
          "output_type": "stream",
          "text": [
            "['1', 1, 2]\n"
          ],
          "name": "stdout"
        }
      ]
    },
    {
      "cell_type": "markdown",
      "metadata": {
        "id": "ZOjsCgMoAxFm",
        "colab_type": "text"
      },
      "source": [
        "## **Exercise 15 - Simple Dictionary**\n",
        "\n",
        "Create a dictionary that contains the keys a  and b  and their respective values 1  and 2 ."
      ]
    },
    {
      "cell_type": "code",
      "metadata": {
        "id": "AgvmZ3PCBpxC",
        "colab_type": "code",
        "colab": {}
      },
      "source": [
        "# Using Curly Braces\n",
        "d = {'a': 1 , 'b' : 2}\n",
        "\n",
        "# Using Dict Function\n",
        "d = dict(a = 1, b = 2)"
      ],
      "execution_count": 31,
      "outputs": []
    },
    {
      "cell_type": "markdown",
      "metadata": {
        "id": "-gtbJ-wuCH7M",
        "colab_type": "text"
      },
      "source": [
        "## **Exercise 16 - Accessing Dictionary Items**\n",
        "\n",
        "Please complete the script so that it prints out the value of key b .\n",
        "\n",
        "\n",
        "d = {\"a\": 1, \"b\": 2}\n",
        "\n"
      ]
    },
    {
      "cell_type": "code",
      "metadata": {
        "id": "-ZtSmZEMCLvK",
        "colab_type": "code",
        "colab": {
          "base_uri": "https://localhost:8080/",
          "height": 34
        },
        "outputId": "10f58d69-abed-4b99-dae5-ce4a88e95220"
      },
      "source": [
        "d = {\"a\": 1, \"b\": 2}\n",
        "print(d[\"b\"])"
      ],
      "execution_count": 32,
      "outputs": [
        {
          "output_type": "stream",
          "text": [
            "2\n"
          ],
          "name": "stdout"
        }
      ]
    },
    {
      "cell_type": "markdown",
      "metadata": {
        "id": "YYGOQSqHCZaU",
        "colab_type": "text"
      },
      "source": [
        "## **Exercise 17 - Dictionary Items Sum Up**\n",
        "\n",
        "Calculate the sum of the values of keys a  and b .\n",
        "\n",
        "\n",
        "d = {\"a\": 1, \"b\": 2, \"c\": 3}\n",
        "\n"
      ]
    },
    {
      "cell_type": "code",
      "metadata": {
        "id": "Aq9jtBrsCf_8",
        "colab_type": "code",
        "colab": {
          "base_uri": "https://localhost:8080/",
          "height": 34
        },
        "outputId": "adf5d177-2d93-44c0-eac7-bf4696eb713a"
      },
      "source": [
        "d = {\"a\": 1, \"b\": 2, \"c\": 3}\n",
        "print(d[\"a\"]+d[\"b\"])"
      ],
      "execution_count": 33,
      "outputs": [
        {
          "output_type": "stream",
          "text": [
            "3\n"
          ],
          "name": "stdout"
        }
      ]
    },
    {
      "cell_type": "markdown",
      "metadata": {
        "id": "R4qhBjs7C-Tj",
        "colab_type": "text"
      },
      "source": [
        "## **Exercise 18 - Key Error**\n",
        "\n",
        "d = {\"Name\": \"John\", \"Surname\": \"Smith\"}\n",
        "\n",
        "print(d[\"Smith\"])\n",
        "\n",
        "Throws KeyError. Fix the syntax to print the Surname value."
      ]
    },
    {
      "cell_type": "code",
      "metadata": {
        "id": "Aic2QQ5aDhts",
        "colab_type": "code",
        "colab": {
          "base_uri": "https://localhost:8080/",
          "height": 34
        },
        "outputId": "419c9d3d-508b-49ed-8536-56ae4f072251"
      },
      "source": [
        "d = {\"Name\": \"John\", \"Surname\": \"Smith\"}\n",
        "print(d[\"Surname\"])"
      ],
      "execution_count": 34,
      "outputs": [
        {
          "output_type": "stream",
          "text": [
            "Smith\n"
          ],
          "name": "stdout"
        }
      ]
    },
    {
      "cell_type": "markdown",
      "metadata": {
        "id": "YSOZqmjID_na",
        "colab_type": "text"
      },
      "source": [
        "## **Exercise 19 - Add Dictionary Key**\n",
        "\n",
        "Add a new pair of key (e.g. c ) and value (e.g. 3 ) to the dictionary and print out the new dictionary.\n",
        "\n",
        "\n",
        "d = {\"a\": 1, \"b\": 2}\n",
        "\n",
        "***Expected Output:***\n",
        "\n",
        "{'a': 1, 'c': 3, 'b': 2}"
      ]
    },
    {
      "cell_type": "code",
      "metadata": {
        "id": "PMolPYAfEL1s",
        "colab_type": "code",
        "colab": {
          "base_uri": "https://localhost:8080/",
          "height": 34
        },
        "outputId": "564c99ba-ae77-4542-a11b-98c11f647839"
      },
      "source": [
        "d = {\"a\": 1, \"b\": 2}\n",
        "d[\"c\"] = 3\n",
        "print(d)"
      ],
      "execution_count": 36,
      "outputs": [
        {
          "output_type": "stream",
          "text": [
            "{'a': 1, 'b': 2, 'c': 3}\n"
          ],
          "name": "stdout"
        }
      ]
    }
  ]
}