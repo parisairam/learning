{
  "nbformat": 4,
  "nbformat_minor": 0,
  "metadata": {
    "colab": {
      "name": "Arrays_2.ipynb",
      "provenance": [],
      "authorship_tag": "ABX9TyNVduHHUwbMbAPzRDNMQK5w",
      "include_colab_link": true
    },
    "kernelspec": {
      "name": "python3",
      "display_name": "Python 3"
    }
  },
  "cells": [
    {
      "cell_type": "markdown",
      "metadata": {
        "id": "view-in-github",
        "colab_type": "text"
      },
      "source": [
        "<a href=\"https://colab.research.google.com/github/parisairam/learning/blob/master/Arrays_2.ipynb\" target=\"_parent\"><img src=\"https://colab.research.google.com/assets/colab-badge.svg\" alt=\"Open In Colab\"/></a>"
      ]
    },
    {
      "cell_type": "markdown",
      "metadata": {
        "id": "_rB-DnyCORzM",
        "colab_type": "text"
      },
      "source": [
        "# **Check if subarray with 0 sum exists or not**\n",
        "\n",
        "Given an array, check if that array contains a subarray with sum 0\n",
        "\n",
        "\n",
        "\n",
        "***Input***\n",
        "\n",
        "`Arr = [3, 4, -7, 3, 1, 3, 1, -4, -2, -2]`\n",
        "\n",
        "***Output***\n",
        "\n",
        "`Subarray with sum 0 exists`\n",
        "\n",
        "The sub-array with sum 0 are\n",
        "\n",
        "\n",
        "```\n",
        "[3, 4, -7]\n",
        "\n",
        "[4, -7, 3]\n",
        "\n",
        "[-7, 3, 1, 3]\n",
        "\n",
        "[3, 1, -4]\n",
        "\n",
        "[3, 1, 3, 1, -4, -2, -2]\n",
        "\n",
        "[3, 4, -7, 3, 1, 3, 1, -4, -2, -2]\n",
        "```\n",
        "\n"
      ]
    },
    {
      "cell_type": "code",
      "metadata": {
        "id": "mW-plyvqQEQc",
        "colab_type": "code",
        "colab": {
          "base_uri": "https://localhost:8080/",
          "height": 34
        },
        "outputId": "06228ba7-3f99-4908-b808-756a180406b1"
      },
      "source": [
        "def Check_Zerosum_subarray(A):\n",
        "\n",
        "  s = set()\n",
        "\n",
        "  s.add(0)\n",
        "\n",
        "  sum = 0\n",
        "\n",
        "  for i in A:\n",
        "    sum += i\n",
        "\n",
        "    if sum in s:\n",
        "      return True\n",
        "\n",
        "    s.add(sum)\n",
        "\n",
        "  return False\n",
        "\n",
        "if __name__ == '__main__':\n",
        "\n",
        "  Arr = [3, 4, -7, 3, 1, 3, 1, -4, -2, -2]\n",
        "\n",
        "  if(Check_Zerosum_subarray(Arr)):\n",
        "    print('Sub-Array with sum 0 exists!')\n",
        "  else:\n",
        "    print('Sub-Array with sum 0 does not exists!')\n"
      ],
      "execution_count": 11,
      "outputs": [
        {
          "output_type": "stream",
          "text": [
            "Sub-Array with sum 0 exists!\n"
          ],
          "name": "stdout"
        }
      ]
    },
    {
      "cell_type": "markdown",
      "metadata": {
        "id": "t1ZdDJLbS2h7",
        "colab_type": "text"
      },
      "source": [
        "When `Check_Zerosum_subarray` method is called, a set *s* is created and 0 is added to it. Also *sum* is inititalized to 0. Each element is added to *sum* and checked if it already present in set *s*, if it is present , *True* is returned. Else, the *sum* value is added to set *s* and the loop continues. If the *sum* 0 is not achieved, the method returns a *False*."
      ]
    }
  ]
}